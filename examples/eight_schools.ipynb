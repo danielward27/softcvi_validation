{
 "cells": [
  {
   "cell_type": "code",
   "execution_count": 1,
   "metadata": {},
   "outputs": [
    {
     "name": "stderr",
     "output_type": "stream",
     "text": [
      "100%|██████████| 2000/2000 [00:34<00:00, 57.95it/s, loss=16.3]    \n"
     ]
    }
   ],
   "source": [
    "import os\n",
    "\n",
    "import jax.random as jr\n",
    "import matplotlib.pyplot as plt\n",
    "import optax\n",
    "from cnpe.losses import AmortizedMaximumLikelihood\n",
    "from flowjax.train import fit_to_variational_target\n",
    "from numpyro.infer import Predictive\n",
    "\n",
    "from cnpe_validation.tasks.eight_schools_non_centered import (\n",
    "    EightSchoolsNonCenteredGuide,\n",
    "    EightSchoolsNonCenteredModel,\n",
    ")\n",
    "from cnpe_validation.tasks.loc_scale_hierarchical import (\n",
    "    LocScaleHierarchicalGuide,\n",
    ")\n",
    "from cnpe_validation.tasks.sirsde import (\n",
    "    get_hierarchical_sir_model,\n",
    ")\n",
    "from cnpe_validation.utils import get_abspath_project_root\n",
    "\n",
    "os.chdir(get_abspath_project_root())\n",
    "\n",
    "\n",
    "def get_sirsde_model_and_guide(key):\n",
    "    model = get_hierarchical_sir_model(n_obs=50)\n",
    "\n",
    "    guide = LocScaleHierarchicalGuide(\n",
    "        key=key,\n",
    "        z_dim=model.z_dim,\n",
    "        x_dim=model.x_dim,\n",
    "        n_obs=model.n_obs,\n",
    "    )\n",
    "    return model, guide\n",
    "\n",
    "\n",
    "def get_eight_schools_noncentered(key):\n",
    "    model = EightSchoolsNonCenteredModel()\n",
    "    guide = EightSchoolsNonCenteredGuide(key, width_size=20)\n",
    "    return model, guide\n",
    "\n",
    "\n",
    "TASKS = {\n",
    "    \"sirsde\": get_sirsde_model_and_guide,\n",
    "    \"eight_schools_non_centered\": get_eight_schools_noncentered,\n",
    "}\n",
    "\n",
    "seed=0\n",
    "task_name=\"eight_schools_non_centered\"\n",
    "maximum_likelihood_steps=2000\n",
    "contrastive_steps=2000\n",
    "num_contrastive=20\n",
    "\n",
    "\n",
    "key, subkey = jr.split(jr.PRNGKey(seed))\n",
    "model, guide = TASKS[task_name](subkey)\n",
    "posteriors = {}\n",
    "\n",
    "# Generate observation from model\n",
    "pred = Predictive(model, num_samples=1)\n",
    "key, subkey = jr.split(key)\n",
    "observations = pred(subkey)\n",
    "observations = {k: v.squeeze(0) for k, v in observations.items()}\n",
    "\n",
    "key, subkey = jr.split(key)\n",
    "\n",
    "# Pretrain using amortized maximum likelihood\n",
    "loss = AmortizedMaximumLikelihood(model=model, obs_name=model.obs_name)\n",
    "\n",
    "optimizer = optax.apply_if_finite(\n",
    "    optax.chain(\n",
    "        optax.clip_by_global_norm(1),\n",
    "        optax.adam(optax.linear_schedule(5e-4, 1e-4, maximum_likelihood_steps)),\n",
    "    ),\n",
    "    max_consecutive_errors=10,\n",
    ")\n",
    "guide_aml, losses = fit_to_variational_target(\n",
    "    subkey,\n",
    "    guide=guide,\n",
    "    loss_fn=loss,\n",
    "    steps=maximum_likelihood_steps,\n",
    "    optimizer=optimizer,\n",
    ")\n"
   ]
  },
  {
   "cell_type": "code",
   "execution_count": 2,
   "metadata": {},
   "outputs": [
    {
     "data": {
      "text/plain": [
       "[<matplotlib.lines.Line2D at 0x7f2f7d721890>]"
      ]
     },
     "execution_count": 2,
     "metadata": {},
     "output_type": "execute_result"
    },
    {
     "data": {
      "image/png": "[encoded data removed]",
      "text/plain": [
       "<Figure size 640x480 with 1 Axes>"
      ]
     },
     "metadata": {},
     "output_type": "display_data"
    }
   ],
   "source": [
    "# Data for \"global\" plots\n",
    "plt.plot(losses)"
   ]
  },
  {
   "cell_type": "code",
   "execution_count": 3,
   "metadata": {},
   "outputs": [],
   "source": [
    "from cnpe_validation.utils import get_posterior_db_reference_posterior\n",
    "\n",
    "reference_posterior = get_posterior_db_reference_posterior(\"eight_schools-eight_schools_noncentered\")"
   ]
  },
  {
   "cell_type": "code",
   "execution_count": 16,
   "metadata": {},
   "outputs": [
    {
     "data": {
      "text/plain": [
       "(-20.0, 20.0)"
      ]
     },
     "execution_count": 16,
     "metadata": {},
     "output_type": "execute_result"
    },
    {
     "data": {
      "image/png": "[encoded data removed]",
      "text/plain": [
       "<Figure size 640x480 with 1 Axes>"
      ]
     },
     "metadata": {},
     "output_type": "display_data"
    }
   ],
   "source": [
    "import jax.numpy as jnp\n",
    "\n",
    "n_plot = 500\n",
    "col = 3\n",
    "var = \"mu\"\n",
    "posterior = Predictive(guide_aml, num_samples=n_plot)(key, observations[model.obs_name])\n",
    "plt.hist(Predictive(model, num_samples=n_plot)(key)[var], label=\"prior\", bins=30)\n",
    "plt.hist(reference_posterior[var][:n_plot].squeeze(), label=\"reference\", bins=30)\n",
    "plt.hist(posterior[var], label=\"posterior\", alpha=0.5, bins=30)\n",
    "plt.legend()\n",
    "plt.xlim(-20, 20) "
   ]
  },
  {
   "cell_type": "code",
   "execution_count": 9,
   "metadata": {},
   "outputs": [
    {
     "data": {
      "text/plain": [
       "(10000, 1)"
      ]
     },
     "execution_count": 9,
     "metadata": {},
     "output_type": "execute_result"
    }
   ],
   "source": [
    "jnp.log(reference_posterior[\"tau\"]).shape"
   ]
  },
  {
   "cell_type": "code",
   "execution_count": null,
   "metadata": {},
   "outputs": [],
   "source": []
  }
 ],
 "metadata": {
  "kernelspec": {
   "display_name": "jax_env",
   "language": "python",
   "name": "python3"
  },
  "language_info": {
   "codemirror_mode": {
    "name": "ipython",
    "version": 3
   },
   "file_extension": ".py",
   "mimetype": "text/x-python",
   "name": "python",
   "nbconvert_exporter": "python",
   "pygments_lexer": "ipython3",
   "version": "3.11.8"
  }
 },
 "nbformat": 4,
 "nbformat_minor": 2
}
